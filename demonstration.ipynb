{
  "cells": [
    {
      "cell_type": "code",
      "execution_count": null,
      "id": "8db37e40-f9ac-4343-aa17-1353e8b9fff3",
      "metadata": {
        "vscode": {
          "languageId": "python"
        }
      },
      "outputs": [],
      "source": [
        "import pandas as pd\n",
        "import cufflinks as cf\n",
        "cf.go_offline() # Configure Plotly to work in offline mode\n",
        "import numpy as np\n",
        "import yfinance as yf\n",
        "from datetime import date\n",
        "import warnings\n",
        "warnings.simplefilter(action='ignore', category=FutureWarning)\n",
        "import mercury as mr\n",
        "from dateutil.relativedelta import relativedelta"
      ]
    },
    {
      "cell_type": "code",
      "execution_count": null,
      "id": "fe7d0f82-8a8d-4a95-a67e-6e57288f72d7",
      "metadata": {
        "vscode": {
          "languageId": "python"
        }
      },
      "outputs": [],
      "source": [
        "app = mr.App(title=\"📈 Stock Price Dashboard\", description=\"Dashboard with financial data\", show_code=False)"
      ]
    },
    {
      "cell_type": "code",
      "execution_count": null,
      "id": "5a1612e2-55c1-40d6-bca6-a3572bc0c6e6",
      "metadata": {
        "vscode": {
          "languageId": "python"
        }
      },
      "outputs": [],
      "source": [
        "ticker = mr.Select(label=\"Please select ticker\", value='NVDA', \n",
        "                   choices=['NVDA', 'INTC', 'AMD', 'TSM', 'MU'])"
      ]
    },
    {
      "cell_type": "code",
      "execution_count": null,
      "id": "e5a8a7da-9e60-4ba5-86d6-74a4788c497d",
      "metadata": {
        "vscode": {
          "languageId": "python"
        }
      },
      "outputs": [],
      "source": [
        "mr.Md(f\"# Selected ticker: {ticker.value}\")"
      ]
    },
    {
      "cell_type": "code",
      "execution_count": null,
      "id": "8b217515-0cef-45e9-b175-7d0cb8ccf06a",
      "metadata": {
        "vscode": {
          "languageId": "python"
        }
      },
      "outputs": [],
      "source": [
        "period = mr.Numeric(label=\"Past Month(s)\", value=3, min=1, max=12)"
      ]
    },
    {
      "cell_type": "code",
      "execution_count": null,
      "id": "9ab0e91f-72f1-4db2-bf64-acb407be9a54",
      "metadata": {
        "vscode": {
          "languageId": "python"
        }
      },
      "outputs": [],
      "source": [
        "# Download NVIDIA Corporation (NVDA) stock data for analysis\n",
        "stock_data = yf.download(ticker.value, start=date.today() - relativedelta(months=+period.value), end=date.today())\n",
        "stock_data"
      ]
    },
    {
      "cell_type": "code",
      "execution_count": null,
      "id": "30e45e83-1145-4e72-b4d2-f92cfb26d3c9",
      "metadata": {
        "vscode": {
          "languageId": "python"
        }
      },
      "outputs": [],
      "source": [
        "# Create and display an interactive line plot of NVDA's Adjusted Close Prices\n",
        "stock_data['Adj Close'].iplot(title='Adjusted Close', colors=['green'])"
      ]
    },
    {
      "cell_type": "code",
      "execution_count": null,
      "id": "0a5a7a3d-69d5-4341-80e3-80cc4f929bf4",
      "metadata": {
        "vscode": {
          "languageId": "python"
        }
      },
      "outputs": [],
      "source": [
        "# Create and display an interactive filled area plot of NVDA's Adjusted Close Prices\n",
        "stock_data['Adj Close'].iplot(title='Adjusted Close (Filled Area)', fill=True, colors=['green'])"
      ]
    },
    {
      "cell_type": "code",
      "execution_count": null,
      "id": "dbddc1f8-07bd-4d01-bae5-7ba1f1206ea7",
      "metadata": {
        "vscode": {
          "languageId": "python"
        }
      },
      "outputs": [],
      "source": [
        "# Create and display an interactive line plot of NVDA's Returns with a best-fit line\n",
        "stock_data['Adj Close'].iplot(title='Returns', bestfit=True, bestfit_colors=['black'])"
      ]
    },
    {
      "cell_type": "code",
      "execution_count": null,
      "id": "cb8a8dea-f819-48f3-9955-c2b1320835ec",
      "metadata": {
        "vscode": {
          "languageId": "python"
        }
      },
      "outputs": [],
      "source": [
        "# Create a Quantitative Figure (QuantFig) for the NVDA stock data\n",
        "qf = cf.QuantFig(stock_data, title='Quantitative Figure', legend='top', name=ticker.value)\n",
        "qf.add_sma([10, 20], width=2, color=['green', 'lightgreen'], legendgroup=True)\n",
        "qf.add_bollinger_bands()\n",
        "qf.add_volume()\n",
        "qf.iplot()"
      ]
    },
    {
      "cell_type": "markdown",
      "id": "ec0daccc-f46a-425f-a2f7-5dbd013fcbc2",
      "metadata": {},
      "source": [
        "# Comparing Semiconductor Companies"
      ]
    },
    {
      "cell_type": "code",
      "execution_count": null,
      "id": "15ceaaf4-789b-47d2-bc53-d824d33306ce",
      "metadata": {
        "vscode": {
          "languageId": "python"
        }
      },
      "outputs": [],
      "source": [
        "# Download stock data for semiconductor companies\n",
        "semiconductor_tickers = ['NVDA', 'INTC', 'AMD', 'TSM', 'MU']\n",
        "semiconductor_data = yf.download(semiconductor_tickers, start=date.today() - relativedelta(months=+period.value), end=date.today())\n",
        "semiconductor_data"
      ]
    },
    {
      "cell_type": "code",
      "execution_count": null,
      "id": "2de843c3-bf7b-4c38-b6ac-2101b0ee4a6e",
      "metadata": {
        "vscode": {
          "languageId": "python"
        }
      },
      "outputs": [],
      "source": [
        "# Create and display an interactive line plot of Adjusted Close Prices for semiconductor companies\n",
        "semiconductor_data['Adj Close'].iplot(title='Semiconductor Adjusted Close Prices', xTitle='Dates', yTitle='Adjusted Close Prices')"
      ]
    },
    {
      "cell_type": "code",
      "execution_count": null,
      "id": "f7318365-a782-4a6d-a66d-7a6b9ffdfc27",
      "metadata": {
        "vscode": {
          "languageId": "python"
        }
      },
      "outputs": [],
      "source": [
        "# Calculate and display cumulative returns for a weighted portfolio of semiconductor companies\n",
        "semiconductor_returns = semiconductor_data['Adj Close'].pct_change()\n",
        "semiconductor_returns.iloc[0, :] = 0\n",
        "weights = np.array([0.1, 0.2, 0.25, 0.25, 0.2])\n",
        "weighted_returns = weights * semiconductor_returns\n",
        "cumulative_returns = (weighted_returns + 1).cumprod()\n",
        "cumulative_returns.iplot(title='Cumulative Semiconductor Returns', xTitle='Dates', yTitle='Cumulative Returns')"
      ]
    }
  ],
  "metadata": {
    "kernelspec": {
      "display_name": "",
      "name": ""
    },
    "language_info": {
      "name": ""
    }
  },
  "nbformat": 4,
  "nbformat_minor": 4
}
